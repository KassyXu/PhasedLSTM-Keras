{
  "cells": [
    {
      "cell_type": "markdown",
      "metadata": {
        "id": "view-in-github",
        "colab_type": "text"
      },
      "source": [
        "<a href=\"https://colab.research.google.com/github/KassyXu/PhasedLSTM-Keras/blob/master/scratchpad.ipynb\" target=\"_parent\"><img src=\"https://colab.research.google.com/assets/colab-badge.svg\" alt=\"Open In Colab\"/></a>"
      ]
    },
    {
      "cell_type": "code",
      "source": [
        "# **************** UNCOMMENT AND RUN THIS CELL IF YOU NEED TO INSTALL/ UPGRADE TSAI ****************\n",
        "stable = True # Set to True for latest pip version or False for main branch in GitHub\n",
        "!pip install {\"tsai -U\" if stable else \"git+https://github.com/timeseriesAI/tsai.git\"} >> /dev/null"
      ],
      "metadata": {
        "id": "nNciDHPxp5ro"
      },
      "execution_count": 1,
      "outputs": []
    },
    {
      "cell_type": "code",
      "source": [
        "from tsai.all import *\n",
        "my_setup()"
      ],
      "metadata": {
        "colab": {
          "base_uri": "https://localhost:8080/"
        },
        "id": "OE8trmj5p5rr",
        "outputId": "7a659239-d862-4fd9-ac17-27f62b699297"
      },
      "execution_count": 2,
      "outputs": [
        {
          "output_type": "stream",
          "name": "stdout",
          "text": [
            "os              : Linux-5.10.147+-x86_64-with-glibc2.29\n",
            "python          : 3.8.10\n",
            "tsai            : 0.3.5\n",
            "fastai          : 2.7.10\n",
            "fastcore        : 1.5.27\n",
            "torch           : 1.13.1+cu116\n",
            "device          : cpu\n",
            "cpu cores       : 1\n",
            "threads per cpu : 2\n",
            "RAM             : 12.68 GB\n",
            "GPU memory      : N/A\n"
          ]
        }
      ]
    },
    {
      "cell_type": "code",
      "source": [
        "X = np.random.rand(1_000, 16, 100)\n",
        "labels = alphabet[:12]\n",
        "multi_y = np.array([labels[list(set(np.random.randint(0, 12, np.random.randint(1, 5))))] for _ in range(1_000)])\n",
        "splits = TimeSplitter()(multi_y)"
      ],
      "metadata": {
        "colab": {
          "base_uri": "https://localhost:8080/",
          "height": 91
        },
        "id": "8j7lOPJVqF__",
        "outputId": "0df127c9-ca2e-4021-9452-a261d6b5f824"
      },
      "execution_count": 3,
      "outputs": [
        {
          "output_type": "display_data",
          "data": {
            "text/plain": [
              "<Figure size 1152x36 with 1 Axes>"
            ],
            "image/png": "[encoded data removed]"
          },
          "metadata": {
            "needs_background": "light"
          }
        }
      ]
    },
    {
      "cell_type": "code",
      "source": [
        "tfms  = [None, TSMultiLabelClassification()] # TSMultiLabelClassification() == [MultiCategorize(), OneHotEncode()]\n",
        "batch_tfms = TSStandardize()\n",
        "bs = 64\n",
        "dls = get_ts_dls(X, multi_y, splits=splits, tfms=tfms, batch_tfms=batch_tfms, bs=bs)\n",
        "dls.dataset"
      ],
      "metadata": {
        "colab": {
          "base_uri": "https://localhost:8080/"
        },
        "id": "O7Epml3ap2vu",
        "outputId": "72d84531-a63c-448b-ce3b-c024eb0f00f1"
      },
      "execution_count": 4,
      "outputs": [
        {
          "output_type": "execute_result",
          "data": {
            "text/plain": [
              "(#800) [(TSTensor(vars:16, len:100, device=cpu, dtype=torch.float32), TensorMultiCategory([1., 0., 0., 0., 0., 0., 0., 0., 1., 0., 0., 0.])), (TSTensor(vars:16, len:100, device=cpu, dtype=torch.float32), TensorMultiCategory([0., 1., 0., 0., 1., 0., 0., 0., 1., 0., 0., 0.])), (TSTensor(vars:16, len:100, device=cpu, dtype=torch.float32), TensorMultiCategory([0., 0., 1., 0., 1., 0., 0., 0., 0., 0., 1., 0.])), (TSTensor(vars:16, len:100, device=cpu, dtype=torch.float32), TensorMultiCategory([0., 1., 0., 0., 0., 0., 0., 1., 0., 1., 0., 0.])), (TSTensor(vars:16, len:100, device=cpu, dtype=torch.float32), TensorMultiCategory([1., 0., 0., 0., 1., 1., 1., 0., 0., 0., 0., 0.])), (TSTensor(vars:16, len:100, device=cpu, dtype=torch.float32), TensorMultiCategory([0., 0., 0., 1., 0., 1., 0., 0., 0., 0., 0., 0.])), (TSTensor(vars:16, len:100, device=cpu, dtype=torch.float32), TensorMultiCategory([0., 0., 1., 0., 0., 0., 0., 0., 0., 0., 0., 0.])), (TSTensor(vars:16, len:100, device=cpu, dtype=torch.float32), TensorMultiCategory([0., 0., 0., 0., 0., 0., 1., 1., 0., 0., 0., 0.])), (TSTensor(vars:16, len:100, device=cpu, dtype=torch.float32), TensorMultiCategory([0., 0., 0., 1., 0., 0., 1., 0., 0., 0., 0., 0.])), (TSTensor(vars:16, len:100, device=cpu, dtype=torch.float32), TensorMultiCategory([0., 0., 1., 0., 0., 0., 1., 0., 0., 0., 1., 0.]))] ...]"
            ]
          },
          "metadata": {},
          "execution_count": 4
        }
      ]
    },
    {
      "cell_type": "code",
      "source": [
        "learn = ts_learner(dls, TSTPlus, \n",
        "                   d_model=256, n_layers=6, d_ff=512, n_heads=8, dropout=0.4,\n",
        "                   metrics=[partial(accuracy_multi, by_sample=True), partial(accuracy_multi, by_sample=False)], cbs=[ShowGraph(), SaveModel()])\n",
        "learn.fit_one_cycle(1, lr_max=1e-3)"
      ],
      "metadata": {
        "colab": {
          "base_uri": "https://localhost:8080/",
          "height": 377
        },
        "id": "kOrOe7KqsNTx",
        "outputId": "936559f1-fc8f-4bad-9053-b97a73b07ec0"
      },
      "execution_count": 5,
      "outputs": [
        {
          "output_type": "display_data",
          "data": {
            "text/plain": [
              "<IPython.core.display.HTML object>"
            ],
            "text/html": [
              "\n",
              "<style>\n",
              "    /* Turns off some styling */\n",
              "    progress {\n",
              "        /* gets rid of default border in Firefox and Opera. */\n",
              "        border: none;\n",
              "        /* Needs to be in here for Safari polyfill so background images work as expected. */\n",
              "        background-size: auto;\n",
              "    }\n",
              "    progress:not([value]), progress:not([value])::-webkit-progress-bar {\n",
              "        background: repeating-linear-gradient(45deg, #7e7e7e, #7e7e7e 10px, #5c5c5c 10px, #5c5c5c 20px);\n",
              "    }\n",
              "    .progress-bar-interrupted, .progress-bar-interrupted::-webkit-progress-bar {\n",
              "        background: #F44336;\n",
              "    }\n",
              "</style>\n"
            ]
          },
          "metadata": {}
        },
        {
          "output_type": "display_data",
          "data": {
            "text/plain": [
              "<IPython.core.display.HTML object>"
            ],
            "text/html": [
              "<table border=\"1\" class=\"dataframe\">\n",
              "  <thead>\n",
              "    <tr style=\"text-align: left;\">\n",
              "      <th>epoch</th>\n",
              "      <th>train_loss</th>\n",
              "      <th>valid_loss</th>\n",
              "      <th>accuracy_multi</th>\n",
              "      <th>accuracy_multi</th>\n",
              "      <th>time</th>\n",
              "    </tr>\n",
              "  </thead>\n",
              "  <tbody>\n",
              "    <tr>\n",
              "      <td>0</td>\n",
              "      <td>0.709983</td>\n",
              "      <td>0.659507</td>\n",
              "      <td>0.000000</td>\n",
              "      <td>0.609583</td>\n",
              "      <td>01:00</td>\n",
              "    </tr>\n",
              "  </tbody>\n",
              "</table>"
            ]
          },
          "metadata": {}
        },
        {
          "output_type": "display_data",
          "data": {
            "text/plain": [
              "<Figure size 432x288 with 1 Axes>"
            ],
            "image/png": "[encoded data removed]"
          },
          "metadata": {}
        },
        {
          "output_type": "stream",
          "name": "stdout",
          "text": [
            "not enough values to plot a chart\n"
          ]
        }
      ]
    },
    {
      "cell_type": "code",
      "source": [
        "learn.load('model')\n",
        "learn.validate()"
      ],
      "metadata": {
        "colab": {
          "base_uri": "https://localhost:8080/",
          "height": 52
        },
        "id": "1RI-za_3ry8J",
        "outputId": "fd2a69c8-a830-42dd-8e58-a6926fcc449c"
      },
      "execution_count": 6,
      "outputs": [
        {
          "output_type": "display_data",
          "data": {
            "text/plain": [
              "<IPython.core.display.HTML object>"
            ],
            "text/html": [
              "\n",
              "<style>\n",
              "    /* Turns off some styling */\n",
              "    progress {\n",
              "        /* gets rid of default border in Firefox and Opera. */\n",
              "        border: none;\n",
              "        /* Needs to be in here for Safari polyfill so background images work as expected. */\n",
              "        background-size: auto;\n",
              "    }\n",
              "    progress:not([value]), progress:not([value])::-webkit-progress-bar {\n",
              "        background: repeating-linear-gradient(45deg, #7e7e7e, #7e7e7e 10px, #5c5c5c 10px, #5c5c5c 20px);\n",
              "    }\n",
              "    .progress-bar-interrupted, .progress-bar-interrupted::-webkit-progress-bar {\n",
              "        background: #F44336;\n",
              "    }\n",
              "</style>\n"
            ]
          },
          "metadata": {}
        },
        {
          "output_type": "display_data",
          "data": {
            "text/plain": [
              "<IPython.core.display.HTML object>"
            ],
            "text/html": []
          },
          "metadata": {}
        },
        {
          "output_type": "stream",
          "name": "stdout",
          "text": [
            "not enough values to plot a chart\n"
          ]
        },
        {
          "output_type": "execute_result",
          "data": {
            "text/plain": [
              "(#3) [0.6595067381858826,0.0,0.6095833778381348]"
            ]
          },
          "metadata": {},
          "execution_count": 6
        }
      ]
    },
    {
      "cell_type": "code",
      "source": [
        "x = X[-25:]\n",
        "# I pass an X with 3 dimensions [batch_size x n_vars x seq_len]\n",
        "results = learn.get_X_preds(x)\n",
        "results"
      ],
      "metadata": {
        "colab": {
          "base_uri": "https://localhost:8080/",
          "height": 937
        },
        "id": "Eaofl7Q9skp0",
        "outputId": "728da964-7831-4173-91bc-deead9e2a4d7"
      },
      "execution_count": 7,
      "outputs": [
        {
          "output_type": "display_data",
          "data": {
            "text/plain": [
              "<IPython.core.display.HTML object>"
            ],
            "text/html": [
              "\n",
              "<style>\n",
              "    /* Turns off some styling */\n",
              "    progress {\n",
              "        /* gets rid of default border in Firefox and Opera. */\n",
              "        border: none;\n",
              "        /* Needs to be in here for Safari polyfill so background images work as expected. */\n",
              "        background-size: auto;\n",
              "    }\n",
              "    progress:not([value]), progress:not([value])::-webkit-progress-bar {\n",
              "        background: repeating-linear-gradient(45deg, #7e7e7e, #7e7e7e 10px, #5c5c5c 10px, #5c5c5c 20px);\n",
              "    }\n",
              "    .progress-bar-interrupted, .progress-bar-interrupted::-webkit-progress-bar {\n",
              "        background: #F44336;\n",
              "    }\n",
              "</style>\n"
            ]
          },
          "metadata": {}
        },
        {
          "output_type": "display_data",
          "data": {
            "text/plain": [
              "<IPython.core.display.HTML object>"
            ],
            "text/html": []
          },
          "metadata": {}
        },
        {
          "output_type": "execute_result",
          "data": {
            "text/plain": [
              "(TensorBase([[0.3109, 0.7256, 0.5780, 0.5151, 0.4259, 0.4853, 0.4108, 0.4532,\n",
              "              0.3085, 0.4498, 0.5660, 0.4413],\n",
              "             [0.4093, 0.4637, 0.4091, 0.4349, 0.5874, 0.6436, 0.3945, 0.6671,\n",
              "              0.5193, 0.6159, 0.5721, 0.5302],\n",
              "             [0.5358, 0.1966, 0.1514, 0.2395, 0.4475, 0.3316, 0.1210, 0.1039,\n",
              "              0.2520, 0.3449, 0.3567, 0.4126],\n",
              "             [0.4343, 0.4078, 0.2944, 0.2823, 0.2917, 0.2423, 0.2700, 0.2698,\n",
              "              0.6641, 0.3730, 0.4864, 0.2399],\n",
              "             [0.2343, 0.3305, 0.2811, 0.2981, 0.1820, 0.5591, 0.2679, 0.2336,\n",
              "              0.4379, 0.4763, 0.2785, 0.2687],\n",
              "             [0.5825, 0.4117, 0.4673, 0.4875, 0.4503, 0.6244, 0.4976, 0.6041,\n",
              "              0.7833, 0.4744, 0.6549, 0.5070],\n",
              "             [0.3759, 0.4251, 0.5677, 0.2918, 0.3303, 0.4054, 0.3747, 0.4838,\n",
              "              0.6203, 0.5188, 0.4172, 0.5120],\n",
              "             [0.5268, 0.6219, 0.4193, 0.5017, 0.4624, 0.3794, 0.5442, 0.5183,\n",
              "              0.7063, 0.4930, 0.5906, 0.5283],\n",
              "             [0.4929, 0.4094, 0.4364, 0.3644, 0.3970, 0.4303, 0.4026, 0.4072,\n",
              "              0.5387, 0.4749, 0.2820, 0.3433],\n",
              "             [0.5049, 0.4886, 0.2985, 0.3900, 0.3034, 0.3510, 0.4221, 0.2482,\n",
              "              0.3879, 0.4027, 0.2987, 0.3902],\n",
              "             [0.3899, 0.4784, 0.5309, 0.2908, 0.4787, 0.3440, 0.3992, 0.3664,\n",
              "              0.5402, 0.3482, 0.3386, 0.3040],\n",
              "             [0.2822, 0.5346, 0.6728, 0.6469, 0.6542, 0.4077, 0.4279, 0.7200,\n",
              "              0.6536, 0.4408, 0.5223, 0.6685],\n",
              "             [0.4410, 0.5614, 0.6548, 0.2921, 0.6450, 0.3717, 0.3426, 0.4695,\n",
              "              0.3099, 0.4186, 0.7175, 0.6603],\n",
              "             [0.6112, 0.4181, 0.2963, 0.3800, 0.2706, 0.5975, 0.5291, 0.3981,\n",
              "              0.4846, 0.5691, 0.6343, 0.6009],\n",
              "             [0.1522, 0.1583, 0.3929, 0.1786, 0.1571, 0.4105, 0.2649, 0.1756,\n",
              "              0.4626, 0.2709, 0.3135, 0.3232],\n",
              "             [0.2456, 0.2683, 0.3853, 0.2214, 0.2871, 0.3025, 0.3833, 0.1870,\n",
              "              0.3892, 0.1608, 0.2656, 0.3293],\n",
              "             [0.1531, 0.2876, 0.2656, 0.1754, 0.2961, 0.2318, 0.2130, 0.2120,\n",
              "              0.2952, 0.2798, 0.2140, 0.2767],\n",
              "             [0.5320, 0.5397, 0.5153, 0.4358, 0.7176, 0.6532, 0.5369, 0.6548,\n",
              "              0.7129, 0.4510, 0.5786, 0.5214],\n",
              "             [0.6715, 0.5226, 0.2535, 0.3604, 0.6204, 0.4654, 0.5802, 0.5089,\n",
              "              0.4911, 0.5034, 0.4515, 0.3060],\n",
              "             [0.2952, 0.6409, 0.4032, 0.5221, 0.4509, 0.2684, 0.4085, 0.4199,\n",
              "              0.3168, 0.4690, 0.3082, 0.3081],\n",
              "             [0.4344, 0.3237, 0.3738, 0.2364, 0.4357, 0.4278, 0.5552, 0.3654,\n",
              "              0.3317, 0.2364, 0.5627, 0.4771],\n",
              "             [0.4187, 0.4909, 0.3589, 0.6037, 0.3349, 0.4300, 0.5607, 0.3408,\n",
              "              0.2042, 0.3483, 0.6872, 0.3654],\n",
              "             [0.4701, 0.4070, 0.4211, 0.4948, 0.3091, 0.3228, 0.5063, 0.5271,\n",
              "              0.5106, 0.4985, 0.4643, 0.4501],\n",
              "             [0.4837, 0.3780, 0.4493, 0.4748, 0.3102, 0.3072, 0.4803, 0.3349,\n",
              "              0.3963, 0.3200, 0.3817, 0.2941],\n",
              "             [0.3420, 0.3582, 0.5746, 0.4671, 0.1890, 0.4598, 0.3777, 0.5419,\n",
              "              0.5974, 0.4086, 0.4284, 0.5882]]),\n",
              " None,\n",
              " (#25) [['b', 'c', 'd', 'k'],['e', 'f', 'h', 'i', 'j', 'k', 'l'],['a'],['i'],['f'],['a', 'f', 'h', 'i', 'k', 'l'],['c', 'i', 'j', 'l'],['a', 'b', 'd', 'g', 'h', 'i', 'k', 'l'],['i'],['a']...])"
            ]
          },
          "metadata": {},
          "execution_count": 7
        }
      ]
    },
    {
      "cell_type": "code",
      "source": [
        "dsid = 'ECG5000' \n",
        "X, y, splits = get_UCR_data(dsid, split_data=False)\n",
        "\n",
        "class_map = {\n",
        "    '1':['Nor'],          # N:1  - Normal\n",
        "    '2':['RoT', 'Pre'],   # r:2  - R-on-T premature ventricular contraction\n",
        "    '3':['PVC', 'Pre'] ,  # V:3  - Premature ventricular contraction\n",
        "    '4':['SPC', 'Pre'],   # S:4  - Supraventricular premature or ectopic beat (atrial or nodal)\n",
        "    '5':['Unk'],          # Q:5  - Unclassifiable beat\n",
        "}\n",
        "labeler = ReLabeler(class_map)\n",
        "y_multi = labeler(y)\n",
        "\n",
        "tfms  = [None, TSMultiLabelClassification()] # TSMultiLabelClassification() == [MultiCategorize(), OneHotEncode()]\n",
        "batch_tfms = [TSStandardize()]\n",
        "dls = get_ts_dls(X, y_multi, splits=splits, tfms=tfms, batch_tfms=batch_tfms, bs=[64, 128])\n",
        "\n",
        "learn = ts_learner(dls, InceptionTimePlus, loss_func=BCEWithLogitsLossFlat(), cbs=[ShowGraph()])\n",
        "learn.fit_one_cycle(1, lr_max=1e-3)"
      ],
      "metadata": {
        "id": "HUQRpl9jsq1O",
        "colab": {
          "base_uri": "https://localhost:8080/",
          "height": 377
        },
        "outputId": "7f2c4b06-8b8e-4160-f1f1-9d868d4b6270"
      },
      "execution_count": 8,
      "outputs": [
        {
          "output_type": "display_data",
          "data": {
            "text/plain": [
              "<IPython.core.display.HTML object>"
            ],
            "text/html": [
              "\n",
              "<style>\n",
              "    /* Turns off some styling */\n",
              "    progress {\n",
              "        /* gets rid of default border in Firefox and Opera. */\n",
              "        border: none;\n",
              "        /* Needs to be in here for Safari polyfill so background images work as expected. */\n",
              "        background-size: auto;\n",
              "    }\n",
              "    progress:not([value]), progress:not([value])::-webkit-progress-bar {\n",
              "        background: repeating-linear-gradient(45deg, #7e7e7e, #7e7e7e 10px, #5c5c5c 10px, #5c5c5c 20px);\n",
              "    }\n",
              "    .progress-bar-interrupted, .progress-bar-interrupted::-webkit-progress-bar {\n",
              "        background: #F44336;\n",
              "    }\n",
              "</style>\n"
            ]
          },
          "metadata": {}
        },
        {
          "output_type": "display_data",
          "data": {
            "text/plain": [
              "<IPython.core.display.HTML object>"
            ],
            "text/html": [
              "<table border=\"1\" class=\"dataframe\">\n",
              "  <thead>\n",
              "    <tr style=\"text-align: left;\">\n",
              "      <th>epoch</th>\n",
              "      <th>train_loss</th>\n",
              "      <th>valid_loss</th>\n",
              "      <th>time</th>\n",
              "    </tr>\n",
              "  </thead>\n",
              "  <tbody>\n",
              "    <tr>\n",
              "      <td>0</td>\n",
              "      <td>0.333276</td>\n",
              "      <td>0.198422</td>\n",
              "      <td>00:36</td>\n",
              "    </tr>\n",
              "  </tbody>\n",
              "</table>"
            ]
          },
          "metadata": {}
        },
        {
          "output_type": "display_data",
          "data": {
            "text/plain": [
              "<Figure size 432x288 with 1 Axes>"
            ],
            "image/png": "[encoded data removed]"
          },
          "metadata": {}
        },
        {
          "output_type": "stream",
          "name": "stdout",
          "text": [
            "not enough values to plot a chart\n"
          ]
        }
      ]
    }
  ],
  "metadata": {
    "colab": {
      "name": "scratchpad",
      "provenance": [],
      "include_colab_link": true
    },
    "kernelspec": {
      "display_name": "Python 3",
      "name": "python3"
    },
    "gpuClass": "standard"
  },
  "nbformat": 4,
  "nbformat_minor": 0
}